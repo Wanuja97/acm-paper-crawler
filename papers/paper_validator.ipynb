{
 "cells": [
  {
   "cell_type": "code",
   "execution_count": 8,
   "metadata": {},
   "outputs": [
    {
     "name": "stdout",
     "output_type": "stream",
     "text": [
      "All papers are available.\n"
     ]
    }
   ],
   "source": [
    "import os\n",
    "import csv\n",
    "\n",
    "def check_unavailable_papers(csv_file, papers_directory):\n",
    "    unavailable_papers = []\n",
    "\n",
    "    # Check if the papers directory exists\n",
    "    if not os.path.exists(papers_directory):\n",
    "        print(f\"The directory '{papers_directory}' does not exist.\")\n",
    "        return\n",
    "\n",
    "    # Read the CSV file with the appropriate encoding\n",
    "    with open(csv_file, 'r', encoding='utf-8-sig') as file:\n",
    "        reader = csv.reader(file)\n",
    "        next(reader)  # Skip the header row if it exists\n",
    "        for col in reader:\n",
    "            file_name = col[3]  # Assuming the fourth column contains file names\n",
    "            file_path = os.path.join(papers_directory, file_name)\n",
    "            if not file_path.endswith(\".pdf\"):\n",
    "                file_path += \".pdf\"\n",
    "            if \":\" in file_path:\n",
    "                file_path = file_path.replace(\":\", \"_\")\n",
    "            if not os.path.exists(file_path):\n",
    "                unavailable_papers.append(file_name)\n",
    "\n",
    "    if unavailable_papers:\n",
    "        print(\"Unavailable papers:\")\n",
    "        for paper in unavailable_papers:\n",
    "            print(paper)\n",
    "    else:\n",
    "        print(\"All papers are available.\")\n",
    "\n",
    "# Example usage\n",
    "csv_file = \"dataset.csv\"\n",
    "papers_directory = \"Language_resources\"\n",
    "check_unavailable_papers(csv_file, papers_directory)\n"
   ]
  }
 ],
 "metadata": {
  "kernelspec": {
   "display_name": "Python 3",
   "language": "python",
   "name": "python3"
  },
  "language_info": {
   "codemirror_mode": {
    "name": "ipython",
    "version": 3
   },
   "file_extension": ".py",
   "mimetype": "text/x-python",
   "name": "python",
   "nbconvert_exporter": "python",
   "pygments_lexer": "ipython3",
   "version": "3.12.1"
  }
 },
 "nbformat": 4,
 "nbformat_minor": 2
}
